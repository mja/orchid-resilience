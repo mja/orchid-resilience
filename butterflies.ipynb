{
 "cells": [
  {
   "cell_type": "markdown",
   "metadata": {},
   "source": [
    "[Symbolics.jl](https://docs.sciml.ai/Symbolics/stable/) implementation."
   ]
  },
  {
   "cell_type": "code",
   "execution_count": 2,
   "metadata": {},
   "outputs": [],
   "source": [
    "using Symbolics"
   ]
  },
  {
   "cell_type": "code",
   "execution_count": 3,
   "metadata": {},
   "outputs": [
    {
     "data": {
      "text/latex": [
       "$$ \\begin{equation}\n",
       "\\left[\n",
       "\\begin{array}{c}\n",
       "g_{1} \\\\\n",
       "g_{2} \\\\\n",
       "g_{3} \\\\\n",
       "e_{1} \\\\\n",
       "e_{2} \\\\\n",
       "\\end{array}\n",
       "\\right]\n",
       "\\end{equation}\n",
       " $$"
      ],
      "text/plain": [
       "5-element Vector{Num}:\n",
       " g_1\n",
       " g_2\n",
       " g_3\n",
       "    e_1\n",
       "    e_2"
      ]
     },
     "metadata": {},
     "output_type": "display_data"
    }
   ],
   "source": [
    "@variables g_1 g_2 g_3 e_1 e_2"
   ]
  },
  {
   "cell_type": "code",
   "execution_count": 4,
   "metadata": {},
   "outputs": [
    {
     "data": {
      "text/latex": [
       "$$ \\begin{equation}\n",
       "g_{1} + \\left( e_{1} - g_{2} \\right)^{2} g_{3}\n",
       "\\end{equation}\n",
       " $$"
      ],
      "text/plain": [
       "g_1 + ((e_1 - g_2)^2)*g_3"
      ]
     },
     "metadata": {},
     "output_type": "display_data"
    }
   ],
   "source": [
    "ϕ = g_1 + g_3 * (e_1 - g_2)^2"
   ]
  },
  {
   "cell_type": "code",
   "execution_count": 5,
   "metadata": {},
   "outputs": [
    {
     "data": {
      "text/latex": [
       "$$ \\begin{equation}\n",
       "\\left(  - g_{1} - \\left( e_{1} - g_{2} \\right)^{2} g_{3} \\right) e_{2}\n",
       "\\end{equation}\n",
       " $$"
      ],
      "text/plain": [
       "(-g_1 - ((e_1 - g_2)^2)*g_3)*e_2"
      ]
     },
     "metadata": {},
     "output_type": "display_data"
    }
   ],
   "source": [
    "w = -ϕ * e_2"
   ]
  },
  {
   "cell_type": "code",
   "execution_count": 6,
   "metadata": {},
   "outputs": [
    {
     "data": {
      "text/plain": [
       "(::Differential) (generic function with 3 methods)"
      ]
     },
     "metadata": {},
     "output_type": "display_data"
    }
   ],
   "source": [
    "dϕ = Differential(ϕ)"
   ]
  },
  {
   "cell_type": "code",
   "execution_count": 7,
   "metadata": {},
   "outputs": [
    {
     "data": {
      "text/latex": [
       "$$ \\begin{equation}\n",
       "\\frac{\\mathrm{d}}{g_{1} + \\left( e_{1} - g_{2} \\right)^{2} g_{3}} \\left(  - g_{1} - \\left( e_{1} - g_{2} \\right)^{2} g_{3} \\right) e_{2}\n",
       "\\end{equation}\n",
       " $$"
      ],
      "text/plain": [
       "Differential(g_1 + ((e_1 - g_2)^2)*g_3)((-g_1 - ((e_1 - g_2)^2)*g_3)*e_2)"
      ]
     },
     "metadata": {},
     "output_type": "display_data"
    }
   ],
   "source": [
    "dϕ(w)"
   ]
  },
  {
   "cell_type": "code",
   "execution_count": 8,
   "metadata": {},
   "outputs": [
    {
     "data": {
      "text/latex": [
       "$$ \\begin{equation}\n",
       "\\left[\n",
       "\\begin{array}{c}\n",
       "1 \\\\\n",
       " - 2 \\left( e_{1} - g_{2} \\right) g_{3} \\\\\n",
       "\\left( e_{1} - g_{2} \\right)^{2} \\\\\n",
       "2 \\left( e_{1} - g_{2} \\right) g_{3} \\\\\n",
       "\\end{array}\n",
       "\\right]\n",
       "\\end{equation}\n",
       " $$"
      ],
      "text/plain": [
       "4-element Vector{Num}:\n",
       "   1\n",
       " -2(e_1 - g_2)*g_3\n",
       "   (e_1 - g_2)^2\n",
       "  2(e_1 - g_2)*g_3"
      ]
     },
     "metadata": {},
     "output_type": "display_data"
    }
   ],
   "source": [
    "D_1 = [Symbolics.derivative(ϕ, i) for i in [g_1, g_2, g_3, e_1]]"
   ]
  },
  {
   "cell_type": "code",
   "execution_count": 9,
   "metadata": {},
   "outputs": [],
   "source": []
  },
  {
   "cell_type": "code",
   "execution_count": 10,
   "metadata": {},
   "outputs": [
    {
     "data": {
      "text/latex": [
       "$$ \\begin{equation}\n",
       "\\left[\n",
       "\\begin{array}{c}\n",
       "P_{11} \\\\\n",
       "P_{12} \\\\\n",
       "P_{13} \\\\\n",
       "P_{14} \\\\\n",
       "P_{22} \\\\\n",
       "P_{23} \\\\\n",
       "P_{24} \\\\\n",
       "P_{33} \\\\\n",
       "P_{34} \\\\\n",
       "P_{44} \\\\\n",
       "\\end{array}\n",
       "\\right]\n",
       "\\end{equation}\n",
       " $$"
      ],
      "text/plain": [
       "10-element Vector{Num}:\n",
       " P_11\n",
       " P_12\n",
       " P_13\n",
       " P_14\n",
       " P_22\n",
       " P_23\n",
       " P_24\n",
       " P_33\n",
       " P_34\n",
       " P_44"
      ]
     },
     "metadata": {},
     "output_type": "display_data"
    }
   ],
   "source": [
    "# symbolic array\n",
    "@variables P_2[1:4,1:4]\n",
    "# array of symbolics\n",
    "@variables P_11, P_12, P_13, P_14, P_22, P_23, P_24, P_33, P_34, P_44"
   ]
  },
  {
   "cell_type": "code",
   "execution_count": 11,
   "metadata": {},
   "outputs": [
    {
     "data": {
      "text/latex": [
       "$$ \\begin{equation}\n",
       "\\left[\n",
       "\\begin{array}{cccc}\n",
       "P_{11} & P_{12} & P_{13} & P_{14} \\\\\n",
       "P_{12} & P_{22} & P_{23} & P_{24} \\\\\n",
       "P_{13} & P_{23} & P_{33} & P_{34} \\\\\n",
       "P_{14} & P_{24} & P_{34} & P_{44} \\\\\n",
       "\\end{array}\n",
       "\\right]\n",
       "\\end{equation}\n",
       " $$"
      ],
      "text/plain": [
       "4×4 Matrix{Num}:\n",
       " P_11  P_12  P_13  P_14\n",
       " P_12  P_22  P_23  P_24\n",
       " P_13  P_23  P_33  P_34\n",
       " P_14  P_24  P_34  P_44"
      ]
     },
     "metadata": {},
     "output_type": "display_data"
    }
   ],
   "source": [
    "P_2 = [P_11 P_12 P_13 P_14\n",
    "       P_12 P_22 P_23 P_24\n",
    "       P_13 P_23 P_33 P_34\n",
    "       P_14 P_24 P_34 P_44]"
   ]
  },
  {
   "cell_type": "code",
   "execution_count": 12,
   "metadata": {},
   "outputs": [
    {
     "data": {
      "text/latex": [
       "$$ \\begin{equation}\n",
       "\\left[\n",
       "\\begin{array}{c}\n",
       "P_{11} - 2 P_{12} \\left( e_{1} - g_{2} \\right) g_{3} + \\left( e_{1} - g_{2} \\right)^{2} P_{13} + 2 P_{14} \\left( e_{1} - g_{2} \\right) g_{3} \\\\\n",
       "P_{12} - 2 P_{22} \\left( e_{1} - g_{2} \\right) g_{3} + \\left( e_{1} - g_{2} \\right)^{2} P_{23} + 2 P_{24} \\left( e_{1} - g_{2} \\right) g_{3} \\\\\n",
       "P_{13} - 2 P_{23} \\left( e_{1} - g_{2} \\right) g_{3} + \\left( e_{1} - g_{2} \\right)^{2} P_{33} + 2 P_{34} \\left( e_{1} - g_{2} \\right) g_{3} \\\\\n",
       "P_{14} - 2 P_{24} \\left( e_{1} - g_{2} \\right) g_{3} + \\left( e_{1} - g_{2} \\right)^{2} P_{34} + 2 P_{44} \\left( e_{1} - g_{2} \\right) g_{3} \\\\\n",
       "\\end{array}\n",
       "\\right]\n",
       "\\end{equation}\n",
       " $$"
      ],
      "text/plain": [
       "4-element Vector{Num}:\n",
       " P_11 - 2P_12*(e_1 - g_2)*g_3 + P_13*((e_1 - g_2)^2) + 2P_14*(e_1 - g_2)*g_3\n",
       " P_12 - 2P_22*(e_1 - g_2)*g_3 + P_23*((e_1 - g_2)^2) + 2P_24*(e_1 - g_2)*g_3\n",
       " P_13 - 2P_23*(e_1 - g_2)*g_3 + P_33*((e_1 - g_2)^2) + 2P_34*(e_1 - g_2)*g_3\n",
       " P_14 - 2P_24*(e_1 - g_2)*g_3 + P_34*((e_1 - g_2)^2) + 2P_44*(e_1 - g_2)*g_3"
      ]
     },
     "metadata": {},
     "output_type": "display_data"
    }
   ],
   "source": [
    "Symbolics.scalarize(P_2'D_1)"
   ]
  },
  {
   "cell_type": "code",
   "execution_count": 13,
   "metadata": {},
   "outputs": [
    {
     "data": {
      "text/plain": [
       "(4,)"
      ]
     },
     "metadata": {},
     "output_type": "display_data"
    }
   ],
   "source": [
    "size(P_2'D_1)"
   ]
  },
  {
   "cell_type": "code",
   "execution_count": 14,
   "metadata": {},
   "outputs": [
    {
     "data": {
      "text/latex": [
       "$$ \\begin{equation}\n",
       "\\left[\n",
       "\\begin{array}{c}\n",
       " - \\left( P_{11} - 2 P_{12} \\left( e_{1} - g_{2} \\right) g_{3} + \\left( e_{1} - g_{2} \\right)^{2} P_{13} + 2 P_{14} \\left( e_{1} - g_{2} \\right) g_{3} \\right) e_{2} \\\\\n",
       " - \\left( P_{12} - 2 P_{22} \\left( e_{1} - g_{2} \\right) g_{3} + \\left( e_{1} - g_{2} \\right)^{2} P_{23} + 2 P_{24} \\left( e_{1} - g_{2} \\right) g_{3} \\right) e_{2} \\\\\n",
       " - \\left( P_{13} - 2 P_{23} \\left( e_{1} - g_{2} \\right) g_{3} + \\left( e_{1} - g_{2} \\right)^{2} P_{33} + 2 P_{34} \\left( e_{1} - g_{2} \\right) g_{3} \\right) e_{2} \\\\\n",
       " - \\left( P_{14} - 2 P_{24} \\left( e_{1} - g_{2} \\right) g_{3} + \\left( e_{1} - g_{2} \\right)^{2} P_{34} + 2 P_{44} \\left( e_{1} - g_{2} \\right) g_{3} \\right) e_{2} \\\\\n",
       "\\end{array}\n",
       "\\right]\n",
       "\\end{equation}\n",
       " $$"
      ],
      "text/plain": [
       "4-element Vector{Num}:\n",
       " -(P_11 - 2P_12*(e_1 - g_2)*g_3 + P_13*((e_1 - g_2)^2) + 2P_14*(e_1 - g_2)*g_3)*e_2\n",
       " -(P_12 - 2P_22*(e_1 - g_2)*g_3 + P_23*((e_1 - g_2)^2) + 2P_24*(e_1 - g_2)*g_3)*e_2\n",
       " -(P_13 - 2P_23*(e_1 - g_2)*g_3 + P_33*((e_1 - g_2)^2) + 2P_34*(e_1 - g_2)*g_3)*e_2\n",
       " -(P_14 - 2P_24*(e_1 - g_2)*g_3 + P_34*((e_1 - g_2)^2) + 2P_44*(e_1 - g_2)*g_3)*e_2"
      ]
     },
     "metadata": {},
     "output_type": "display_data"
    }
   ],
   "source": [
    "w = 1.0\n",
    "Q_1 = 1/w * Symbolics.derivative(-e_2 * ϕ, ϕ) .* (P_2' * D_1)\n",
    "Q_1"
   ]
  },
  {
   "cell_type": "code",
   "execution_count": 15,
   "metadata": {},
   "outputs": [
    {
     "data": {
      "text/latex": [
       "$$ \\begin{equation}\n",
       "\\left[\n",
       "\\begin{array}{c}\n",
       " - P_{11} e_{2} \\\\\n",
       "2 P_{22} \\left( e_{1} - g_{2} \\right) e_{2} g_{3} \\\\\n",
       " - \\left( e_{1} - g_{2} \\right)^{2} P_{33} e_{2} \\\\\n",
       " - 2 P_{44} \\left( e_{1} - g_{2} \\right) e_{2} g_{3} \\\\\n",
       "\\end{array}\n",
       "\\right]\n",
       "\\end{equation}\n",
       " $$"
      ],
      "text/plain": [
       "4-element Vector{Num}:\n",
       "   -P_11*e_2\n",
       "  2P_22*(e_1 - g_2)*e_2*g_3\n",
       " -P_33*((e_1 - g_2)^2)*e_2\n",
       " -2P_44*(e_1 - g_2)*e_2*g_3"
      ]
     },
     "metadata": {},
     "output_type": "display_data"
    }
   ],
   "source": [
    "substitute(Q_1,\n",
    "    Dict([P_12 => 0, P_13 => 0, P_14 => 0,\n",
    "          P_23 => 0, P_24 => 0, P_34 => 0\n",
    "    ]))"
   ]
  }
 ],
 "metadata": {
  "kernelspec": {
   "display_name": "Julia 1.10.0",
   "language": "julia",
   "name": "julia-1.10"
  },
  "language_info": {
   "file_extension": ".jl",
   "mimetype": "application/julia",
   "name": "julia",
   "version": "1.10.0"
  },
  "orig_nbformat": 4
 },
 "nbformat": 4,
 "nbformat_minor": 2
}
