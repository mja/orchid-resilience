{
 "cells": [
  {
   "cell_type": "markdown",
   "metadata": {},
   "source": [
    "# Evolutionary models of risk and resilience"
   ]
  },
  {
   "cell_type": "markdown",
   "metadata": {},
   "source": [
    "Animals show individual differences in basic stress reactivity (1) Genetic studies in humans originally focused on variants that acted as risk factors for negative behavioral and health outcomes. For example, genetic variants underlying the serotonergic system increase the risk of anxiety-related disorders (2). While some genotypes buffer against environmental stressors, there is some evidence that variants conferring risk in moderately and highly stressful environments may also be beneficial in environments of low stress (3).\n",
    "\n",
    "Ellis and Boyce synthesized this theory and evidence as the Biological Sensitivity to Context (BSC) model (4-6). They suggested a U-shaped relationship between stress experienced during ontogeny and biological reactivity to the environment later in life. Individuals growing under moderate stress and psychosocial support develop a low biological sensitivity. Those born under conditions of either low or high stress should develop reactivity (sensitivity or vigilance) (7). However, while individuals with low sensitivity are buffered against moderate and even high stress, they are less receptive to the beneficial effects of good environments.These models were thus conceived in terms of evolutionary development but have yet to be explored formally. Mathematical analysis can help clarify how the distribution of underlying genetic factors affects the evolutionary dynamics of phenotypes like the stress response system. "
   ]
  },
  {
   "cell_type": "markdown",
   "metadata": {},
   "source": [
    "## Mathematical models of evolutionary development\n",
    "\n",
    "The evolution of development can be explored using a general mathematical framework that ties together the distribution of underlying genetic and environmental factors, the joint contribution of each factor to the phenotype, and the relationship between the phenotype and fitness (8) The focus of such mathematical models is twofold:\n",
    "\n",
    "1. to explore how selection changes the distribution of underlying factors and \n",
    "2. how the structure of the phenotype influences the evolution of its development.\n",
    "\n",
    "Phenotypic development can be formalized and modeled by means of tensor analysis. A tensor is a multidimensional extension of a matrix, where the rank of the tensor indicates its dimensionality. A vector is a tensor of rank 1 while a matrix is a tensor of rank 2. The models are composed of several parts\n",
    "\n",
    "- an equation specifying how the phenotype ($\\phi$) is related to the genetic and environmental factors. The equation can be based on knowledge of the system being studied or on a theory of the phenotype's ontogeny.\n",
    "$$\\phi = f(g_1, g_2, \\ldots g_k, e_1, e_2, \\ldots e_n)$$\n",
    "- $\\mathbf{P}$ tensors of the moments of distributions of the underlying factors; $\\mathbf{P}^1$ = means, $\\mathbf{P}^2$ = (co)variances, $\\mathbf{P}^3$ = multivariate skewnesses, $\\mathbf{P}^4$ = multivariate kurtoses. $\\mathbf{P}^n$ is represented as a tensor of rank $n$.\n",
    "$$P^1 = \\left[ \\begin{array}{c}  \\mathrm{E}[g_1] \\\\\n",
    "                              \\vdots \\\\\n",
    "                              \\mathrm{E}[g_k] \\\\\n",
    "                              \\mathrm{E}[e_1] \\\\\n",
    "                              \\vdots \\\\\n",
    "                              \\mathrm{E}[e_n] \\end{array} \\right]$$\n",
    "- $\\mathbf{D}$ tensors specifying how the phenotype changes with changes in the underlying factors. Constructed as derivatives of the phenotypic function.\n",
    "$$D^1 = \\nabla_\\phi \\left[ \\begin{array}{c}  \\frac{\\partial \\phi}{\\partial g_1}\\\\\n",
    "                              \\vdots \\\\\n",
    "                              \\frac{\\partial \\phi}{\\partial g_k} \\\\\n",
    "                              \\frac{\\partial \\phi}{\\partial e_1} \\\\\n",
    "                              \\vdots \\\\\n",
    "                              \\frac{\\partial \\phi}{\\partial e_n} \\end{array} \\right]$$\n",
    "- an equation specifying the relationship between phenotype and fitness ($w$).\n",
    "$$w = g(\\phi, e_m)$$\n",
    "- $\\mathbf{Q}$ vectors indicating how selection changes the distribution of the genetic factors; $\\mathbf{Q}^1$ gives the change in means; $\\mathbf{Q}^2$ the change in variances, and so on.\n",
    "$$Q_a^k = \\frac{\\gamma}{\\bar{w}} \\frac{\\partial^B w}{\\partial \\phi^B} \\langle P^{A+k}, \\otimes^i D^{a_i} \\rangle$$\n",
    "$$Q_1^1 = \\frac{1}{\\bar{w_r}} \\frac{\\partial w_r}{\\partial \\phi_r} \\langle P^2, D^1 \\rangle$$\n",
    "$$\\begin{eqnarray*}\n",
    "Q^2_1 & = & \\frac{1}{\\bar{w_r}} \\frac{\\partial w_r}{\\partial \\phi_r} \\langle P^3, D^1 \\rangle \\\\\n",
    "Q^2_2 & = & \\frac{1}{\\bar{w_r}} \\frac{\\partial w_r}{\\partial \\phi_r} \\langle P^4, D^2 \\rangle \\\\\n",
    "Q^2_{1,1} & = & \\frac{1}{2\\bar{w_r}} \\frac{\\partial^2 w_r}{\\partial \\phi_r^2} \\langle P^4, D^1 \\otimes D^1 \\rangle \\\\\n",
    "\\Delta P^2_\\mathrm{sel} & = & Q^2_1 + Q^2_2 + Q^2_{1,1}\n",
    "\\end{eqnarray*}$$\n",
    "\n",
    "### Tensor algebra\n",
    "\n",
    "Analyzing phenotypic landscape models proceeds by multiplying tensors to determine how the distribution of underlying factors maps on to the phenotypic landscape. An inner product projects one tensor onto another tensor of smaller dimension, resulting in a tensor of rank equal to the difference in ranks of the two original tensors. For example, the 4th moments (kurtoses) of the underlying factors, $\\mathbf{P}^4$ , maps onto the 2nd derivatives of fitness, $\\mathbf{D}^2$ as\n",
    "\n",
    "$$\\langle P^4, D^2 \\rangle_{i,j} = \\sum_k \\sum_l P^4_{i,j,k,l} D^2_{k,l}$$\n",
    "\n",
    "resulting in a new tensor of rank 2 that is part of a $\\mathbf{Q}^2$ vector influencing the 2nd moments (variances).\n",
    "\n",
    "Phenotypic function. gi are genetic and ej environmental factors.\n",
    "\n",
    "First central moment. A rank 1 tensor (vector) holds the means of each underlying factor. Subscripts index the elements: P1 = E[g1], Pk+1 = E[e1]   "
   ]
  },
  {
   "cell_type": "markdown",
   "metadata": {},
   "source": [
    "## Model"
   ]
  },
  {
   "cell_type": "code",
   "execution_count": 44,
   "metadata": {},
   "outputs": [],
   "source": [
    "from sympy import *\n",
    "import matplotlib.pyplot as plt\n",
    "import numpy as np"
   ]
  },
  {
   "cell_type": "markdown",
   "metadata": {},
   "source": [
    "### Phenotype\n",
    "\n",
    "The U-shaped relationship between early stress and biological reactivity, ϕr, can be conveniently represented by a quadratic function specified by 3 genetic and 1 environmental factor\n",
    "\n",
    "$$\\phi_r = g_1 + g_3 (e_1 - g_2)^2$$\n",
    "\n",
    "- $g_1$: genetic factor controlling the minimum possible reactivity.\n",
    "- $g_2$: genetic factor controlling under what value of the environmental factor, e1, minimum reactivity occurs.\n",
    "- $g_3$: genetic factor influencing the rate of increase (curvature) in reactivity under progressively more and less stress.\n",
    "- $e_1$: environmental factor representing stress early in life (higher value equals more stress)   "
   ]
  },
  {
   "cell_type": "code",
   "execution_count": 72,
   "metadata": {},
   "outputs": [
    {
     "data": {
      "text/latex": [
       "$\\displaystyle g_{1} + g_{3} \\left(e_{1} - g_{2}\\right)^{2}$"
      ],
      "text/plain": [
       "g1 + g3*(e1 - g2)**2"
      ]
     },
     "execution_count": 72,
     "metadata": {},
     "output_type": "execute_result"
    }
   ],
   "source": [
    "# sy\n",
    "g1, g2, g3, e1, e2 = symbols('g1 g2 g3 e1 e2')\n",
    "phi_r = g1 + g3 * (e1 - g2)**2\n",
    "phi_r"
   ]
  },
  {
   "cell_type": "code",
   "execution_count": 88,
   "metadata": {},
   "outputs": [
    {
     "data": {
      "text/plain": [
       "Text(0, 0.5, 'φ')"
      ]
     },
     "execution_count": 88,
     "metadata": {},
     "output_type": "execute_result"
    },
    {
     "data": {
      "image/png": "[encoded data removed]",
      "text/plain": [
       "<Figure size 432x288 with 1 Axes>"
      ]
     },
     "metadata": {
      "needs_background": "light"
     },
     "output_type": "display_data"
    }
   ],
   "source": [
    "# function that lets us input an array of values for e1\n",
    "phi_r_f = lambdify(e1, phi_r, 'numpy')\n",
    "\n",
    "e1_range = np.linspace(-3, 3, 100)\n",
    "\n",
    "fig, ax = plt.subplots()\n",
    "ax.plot(e1_range, [phi.subs([(g1, 0), (g2, 0), (g3, 1)]) for phi in phi_r_f(e1_range)])\n",
    "ax.set_xlabel('e1')\n",
    "ax.set_ylabel('φ')"
   ]
  },
  {
   "cell_type": "code",
   "execution_count": 66,
   "metadata": {},
   "outputs": [
    {
     "data": {
      "text/plain": [
       "<matplotlib.legend.Legend at 0x11bfed2b0>"
      ]
     },
     "execution_count": 66,
     "metadata": {},
     "output_type": "execute_result"
    },
    {
     "data": {
      "image/png": "[encoded data removed]",
      "text/plain": [
       "<Figure size 432x288 with 1 Axes>"
      ]
     },
     "metadata": {
      "needs_background": "light"
     },
     "output_type": "display_data"
    }
   ],
   "source": [
    "fig, ax = plt.subplots()\n",
    "ax.plot(e1_range, [phi.subs([(g1, 0), (g2, 1), (g3, 1)]) for phi in phi_r_f(e1_range)], label='g2 = 1')\n",
    "ax.plot(e1_range, [phi.subs([(g1, 0), (g2, -1), (g3, 1)]) for phi in phi_r_f(e1_range)], label='g2 = -1')\n",
    "ax.set_xlabel('e1')  \n",
    "ax.set_ylabel('φ')\n",
    "ax.set_ylim([0, 10])\n",
    "ax.legend()"
   ]
  },
  {
   "cell_type": "code",
   "execution_count": 89,
   "metadata": {},
   "outputs": [
    {
     "data": {
      "text/plain": [
       "<matplotlib.legend.Legend at 0x11cfc9ef0>"
      ]
     },
     "execution_count": 89,
     "metadata": {},
     "output_type": "execute_result"
    },
    {
     "data": {
      "image/png": "[encoded data removed]",
      "text/plain": [
       "<Figure size 432x288 with 1 Axes>"
      ]
     },
     "metadata": {
      "needs_background": "light"
     },
     "output_type": "display_data"
    }
   ],
   "source": [
    "fig, ax = plt.subplots()\n",
    "ax.plot(e1_range, [phi.subs([(g1, 2), (g2, 0), (g3, 1)]) for phi in phi_r_f(e1_range)], label='g1=2, g3=1')\n",
    "ax.plot(e1_range, [phi.subs([(g1, 4), (g2, 0), (g3, 1.5)]) for phi in phi_r_f(e1_range)], label='g1=4, g3=1.5')\n",
    "ax.plot(e1_range, [phi.subs([(g1, 0.5), (g2, 0), (g3, 0.5)]) for phi in phi_r_f(e1_range)], label='g1=0.5, g3=0.5')\n",
    "ax.set_xlabel('e1')  \n",
    "ax.set_ylabel('φ')\n",
    "ax.set_ylim([0, 10])\n",
    "ax.legend()"
   ]
  },
  {
   "cell_type": "markdown",
   "metadata": {},
   "source": [
    "### Fitness\n",
    "\n",
    "The key aspect of the fitness function is that buffered phenotypes should have fairly constant fitness across environments but achieve a lower maximum fitness under good environments. Reactive phenotypes, whether sensitive or vigilant, should have higher fitness in good environments and much lower fitness in poor environments. A simple linear function can be used to capture some of these characteristics. Fitness is therefore a function of the reactivity, $\\phi_r$, and stress or adversity during the reproductive lifespan, $e_2$ (higher values indicate a more stressful environment).\n",
    "\n",
    "$$w_r(\\phi_r, e_2) = -\\phi_r e_2$$"
   ]
  },
  {
   "cell_type": "code",
   "execution_count": 101,
   "metadata": {},
   "outputs": [
    {
     "data": {
      "text/latex": [
       "$\\displaystyle e_{2} \\left(- g_{1} - g_{3} \\left(e_{1} - g_{2}\\right)^{2}\\right)$"
      ],
      "text/plain": [
       "e2*(-g1 - g3*(e1 - g2)**2)"
      ]
     },
     "execution_count": 101,
     "metadata": {},
     "output_type": "execute_result"
    }
   ],
   "source": [
    "w_r = -phi_r*e2\n",
    "w_r"
   ]
  },
  {
   "cell_type": "code",
   "execution_count": 100,
   "metadata": {},
   "outputs": [
    {
     "data": {
      "text/plain": [
       "<matplotlib.legend.Legend at 0x11d21e198>"
      ]
     },
     "execution_count": 100,
     "metadata": {},
     "output_type": "execute_result"
    },
    {
     "data": {
      "image/png": "[encoded data removed]",
      "text/plain": [
       "<Figure size 432x288 with 1 Axes>"
      ]
     },
     "metadata": {
      "needs_background": "light"
     },
     "output_type": "display_data"
    }
   ],
   "source": [
    "# function that to input an array of values for e1\n",
    "w_r_f = lambdify(e2, w_r, 'numpy')\n",
    "\n",
    "e2_range = np.linspace(-3, 3, 100)\n",
    "\n",
    "fig, ax = plt.subplots()\n",
    "ax.plot(e2_range, [w.subs([(g1, 0), (g2, 0), (g3, 1), (e1, 0.5)]) for w in w_r_f(e2_range)], label='Resilient')\n",
    "ax.plot(e2_range, [w.subs([(g1, 0), (g2, 0), (g3, 1), (e1, 1)]) for w in w_r_f(e2_range)], label='')\n",
    "ax.plot(e2_range, [w.subs([(g1, 0), (g2, 0), (g3, 1), (e1, sqrt(2))]) for w in w_r_f(e2_range)], label='Reactive')\n",
    "ax.set_xlabel('e2')\n",
    "ax.set_ylabel('w')\n",
    "ax.legend()"
   ]
  },
  {
   "cell_type": "markdown",
   "metadata": {},
   "source": [
    "Resilience phenotypes (lower values of $phi_r$) have similar fitness across the range of values for the late life environment ($e_2$). Reactive phenotypes (higher values of $phi_r$) have low fitness in poor environments (higher values of $e_2$) but high fitness in good environments (lower values of $e_2$)."
   ]
  },
  {
   "cell_type": "markdown",
   "metadata": {},
   "source": [
    "## Evolutionary dynamics"
   ]
  },
  {
   "cell_type": "markdown",
   "metadata": {},
   "source": [
    "The change in the means of the genetic factors is determined by the first derivative of fitness, the 2nd moments of the distribution, and the first derivatives of phenotype. \n",
    "\n",
    "$$Q_1^1 = \\frac{1}{\\bar{w_r}} \\frac{\\partial w_r}{\\partial \\phi_r} \\langle P^2, D^1 \\rangle$$\n",
    "\n",
    "The model specification includes a 'good', low-stress environment (arbitrarily $e_1 = -1$) where fitness is constant across phenotypes. The direction of change is influenced primarily by the derivative of fitness\n",
    "\n",
    "$$\\frac{\\partial w_r}{\\partial \\phi_r}$$"
   ]
  },
  {
   "cell_type": "code",
   "execution_count": 98,
   "metadata": {},
   "outputs": [
    {
     "data": {
      "text/latex": [
       "$\\displaystyle - e_{2}$"
      ],
      "text/plain": [
       "-e2"
      ]
     },
     "execution_count": 98,
     "metadata": {},
     "output_type": "execute_result"
    }
   ],
   "source": [
    "phi = symbols('phi')\n",
    "diff(-e2*phi, phi)"
   ]
  },
  {
   "cell_type": "markdown",
   "metadata": {},
   "source": [
    "The first dirivative of fitness is positive when the average environment is unstressful and negative when more stressful environments are common."
   ]
  },
  {
   "cell_type": "markdown",
   "metadata": {},
   "source": [
    "First derivative of the phenotype with respect to each factor\n",
    "\n",
    "$$D^1 = \n",
    "\\left[ \\begin{array}{c}\n",
    "\\frac{\\partial \\phi}{\\partial g_1}\\\\\n",
    "\\\\\n",
    "\\frac{\\partial \\phi}{\\partial g_2}\\\\\n",
    "\\\\\n",
    "\\frac{\\partial \\phi}{\\partial g_3}\\\\\n",
    "\\\\\n",
    "\\frac{\\partial \\phi}{\\partial e_1}\\end{array}\\right] \n",
    "$$"
   ]
  },
  {
   "cell_type": "code",
   "execution_count": 92,
   "metadata": {},
   "outputs": [
    {
     "data": {
      "text/latex": [
       "$\\displaystyle \\left[\\begin{matrix}1\\\\g_{3} \\left(- 2 e_{1} + 2 g_{2}\\right)\\\\\\left(e_{1} - g_{2}\\right)^{2}\\\\g_{3} \\left(2 e_{1} - 2 g_{2}\\right)\\end{matrix}\\right]$"
      ],
      "text/plain": [
       "Matrix([\n",
       "[                1],\n",
       "[g3*(-2*e1 + 2*g2)],\n",
       "[     (e1 - g2)**2],\n",
       "[ g3*(2*e1 - 2*g2)]])"
      ]
     },
     "execution_count": 92,
     "metadata": {},
     "output_type": "execute_result"
    }
   ],
   "source": [
    "D_1 = Matrix([diff(phi_r, g1), diff(phi_r, g2), diff(phi_r, g3), diff(phi_r, e1)])\n",
    "D_1"
   ]
  },
  {
   "cell_type": "markdown",
   "metadata": {},
   "source": [
    "$P^2$ is the matrix of variance/covariances of each factor\n",
    "\n",
    "$$P^2 = \\left[ \\begin{array}{cccc}\n",
    "V_{g_1,g_1} & V_{g_1, g_2} & V_{g_1, g_3} & V_{g_1, e_1} \\\\\n",
    "V_{g_2,g_1} & V_{g_2, g_2} & V_{g_2, g_3} & V_{g_2, e_1} \\\\\n",
    "V_{g_3,g_1} & V_{g_3, g_2} & V_{g_3, g_3} & V_{g_3, e_1} \\\\\n",
    "V_{e_1,g_1} & V_{e_1, g_2} & V_{e_1, g_3} & V_{e_1, e_1} \\\\\n",
    "\\end{array} \\right]$$"
   ]
  },
  {
   "cell_type": "markdown",
   "metadata": {},
   "source": [
    "To keep track of them, relab"
   ]
  },
  {
   "cell_type": "code",
   "execution_count": 117,
   "metadata": {},
   "outputs": [
    {
     "data": {
      "text/latex": [
       "$\\displaystyle \\left[\\begin{matrix}Vg1g1 & Vg1g2 & Vg1g3 & Vg1e1\\\\Vg1g2 & Vg2g2 & Vg2g3 & Vg2e1\\\\Vg1g3 & Vg2g3 & Vg3g3 & Vg3e1\\\\Vg1e1 & Vg2e1 & Vg3e1 & Ve1e1\\end{matrix}\\right]$"
      ],
      "text/plain": [
       "Matrix([\n",
       "[Vg1g1, Vg1g2, Vg1g3, Vg1e1],\n",
       "[Vg1g2, Vg2g2, Vg2g3, Vg2e1],\n",
       "[Vg1g3, Vg2g3, Vg3g3, Vg3e1],\n",
       "[Vg1e1, Vg2e1, Vg3e1, Ve1e1]])"
      ]
     },
     "execution_count": 117,
     "metadata": {},
     "output_type": "execute_result"
    }
   ],
   "source": [
    "Vg1g1, Vg1g2, Vg1g3, Vg1e1, Vg2g2, Vg2g3, Vg2e1, Vg3g3, Vg3e1, Ve1e1 = symbols('Vg1g1, Vg1g2, Vg1g3, Vg1e1, Vg2g2, Vg2g3, Vg2e1, Vg3g3, Vg3e1, Ve1e1')\n",
    "P_2 = Matrix([[Vg1g1, Vg1g2, Vg1g3, Vg1e1], [Vg1g2, Vg2g2, Vg2g3, Vg2e1],[Vg1g3, Vg2g3, Vg3g3, Vg3e1], [Vg1e1, Vg2e1, Vg3e1, Ve1e1]])\n",
    "P_2"
   ]
  },
  {
   "cell_type": "markdown",
   "metadata": {},
   "source": [
    "The outer product between the variance/covariance matrix $P^2$ and the first dirivitive of fitness $D^2$\n",
    "\n",
    "$$\\langle P^2, D^1 \\rangle$$"
   ]
  },
  {
   "cell_type": "code",
   "execution_count": 109,
   "metadata": {},
   "outputs": [
    {
     "data": {
      "text/latex": [
       "$\\displaystyle \\left[\\begin{matrix}Vg1e1 g_{3} \\left(2 e_{1} - 2 g_{2}\\right) + Vg1g1 + Vg1g2 g_{3} \\left(- 2 e_{1} + 2 g_{2}\\right) + Vg1g3 \\left(e_{1} - g_{2}\\right)^{2}\\\\Vg1g2 + Vg2e1 g_{3} \\left(2 e_{1} - 2 g_{2}\\right) + Vg2g2 g_{3} \\left(- 2 e_{1} + 2 g_{2}\\right) + Vg2g3 \\left(e_{1} - g_{2}\\right)^{2}\\\\Vg1g3 + Vg2g3 g_{3} \\left(- 2 e_{1} + 2 g_{2}\\right) + Vg3e1 g_{3} \\left(2 e_{1} - 2 g_{2}\\right) + Vg3g3 \\left(e_{1} - g_{2}\\right)^{2}\\\\Ve1e1 g_{3} \\left(2 e_{1} - 2 g_{2}\\right) + Vg1e1 + Vg2e1 g_{3} \\left(- 2 e_{1} + 2 g_{2}\\right) + Vg3e1 \\left(e_{1} - g_{2}\\right)^{2}\\end{matrix}\\right]$"
      ],
      "text/plain": [
       "Matrix([\n",
       "[Vg1e1*g3*(2*e1 - 2*g2) + Vg1g1 + Vg1g2*g3*(-2*e1 + 2*g2) + Vg1g3*(e1 - g2)**2],\n",
       "[Vg1g2 + Vg2e1*g3*(2*e1 - 2*g2) + Vg2g2*g3*(-2*e1 + 2*g2) + Vg2g3*(e1 - g2)**2],\n",
       "[Vg1g3 + Vg2g3*g3*(-2*e1 + 2*g2) + Vg3e1*g3*(2*e1 - 2*g2) + Vg3g3*(e1 - g2)**2],\n",
       "[Ve1e1*g3*(2*e1 - 2*g2) + Vg1e1 + Vg2e1*g3*(-2*e1 + 2*g2) + Vg3e1*(e1 - g2)**2]])"
      ]
     },
     "execution_count": 109,
     "metadata": {},
     "output_type": "execute_result"
    }
   ],
   "source": [
    "P_2 * D_1"
   ]
  },
  {
   "cell_type": "markdown",
   "metadata": {},
   "source": [
    "Putting that all together and assuming the average fitness is 1"
   ]
  },
  {
   "cell_type": "code",
   "execution_count": 114,
   "metadata": {},
   "outputs": [
    {
     "data": {
      "text/latex": [
       "$\\displaystyle \\left[\\begin{matrix}- 1.0 e_{2} \\left(Vg1e1 g_{3} \\left(2 e_{1} - 2 g_{2}\\right) + Vg1g1 + Vg1g2 g_{3} \\left(- 2 e_{1} + 2 g_{2}\\right) + Vg1g3 \\left(e_{1} - g_{2}\\right)^{2}\\right)\\\\- 1.0 e_{2} \\left(Vg1g2 + Vg2e1 g_{3} \\left(2 e_{1} - 2 g_{2}\\right) + Vg2g2 g_{3} \\left(- 2 e_{1} + 2 g_{2}\\right) + Vg2g3 \\left(e_{1} - g_{2}\\right)^{2}\\right)\\\\- 1.0 e_{2} \\left(Vg1g3 + Vg2g3 g_{3} \\left(- 2 e_{1} + 2 g_{2}\\right) + Vg3e1 g_{3} \\left(2 e_{1} - 2 g_{2}\\right) + Vg3g3 \\left(e_{1} - g_{2}\\right)^{2}\\right)\\\\- 1.0 e_{2} \\left(Ve1e1 g_{3} \\left(2 e_{1} - 2 g_{2}\\right) + Vg1e1 + Vg2e1 g_{3} \\left(- 2 e_{1} + 2 g_{2}\\right) + Vg3e1 \\left(e_{1} - g_{2}\\right)^{2}\\right)\\end{matrix}\\right]$"
      ],
      "text/plain": [
       "Matrix([\n",
       "[-1.0*e2*(Vg1e1*g3*(2*e1 - 2*g2) + Vg1g1 + Vg1g2*g3*(-2*e1 + 2*g2) + Vg1g3*(e1 - g2)**2)],\n",
       "[-1.0*e2*(Vg1g2 + Vg2e1*g3*(2*e1 - 2*g2) + Vg2g2*g3*(-2*e1 + 2*g2) + Vg2g3*(e1 - g2)**2)],\n",
       "[-1.0*e2*(Vg1g3 + Vg2g3*g3*(-2*e1 + 2*g2) + Vg3e1*g3*(2*e1 - 2*g2) + Vg3g3*(e1 - g2)**2)],\n",
       "[-1.0*e2*(Ve1e1*g3*(2*e1 - 2*g2) + Vg1e1 + Vg2e1*g3*(-2*e1 + 2*g2) + Vg3e1*(e1 - g2)**2)]])"
      ]
     },
     "execution_count": 114,
     "metadata": {},
     "output_type": "execute_result"
    }
   ],
   "source": [
    "w_bar = 1.0\n",
    "Q_1 = 1/w_bar * diff(-e2*phi, phi) * (P_2 * D_1)\n",
    "Q_1"
   ]
  },
  {
   "cell_type": "markdown",
   "metadata": {},
   "source": [
    "To start exploringt the evolutionary dyanmics, we will assume the covariances are zero"
   ]
  },
  {
   "cell_type": "code",
   "execution_count": 116,
   "metadata": {},
   "outputs": [
    {
     "data": {
      "text/latex": [
       "$\\displaystyle \\left[\\begin{matrix}- 1.0 Vg1g1 e_{2}\\\\- 1.0 Vg2g2 e_{2} g_{3} \\left(- 2 e_{1} + 2 g_{2}\\right)\\\\- 1.0 Vg3g3 e_{2} \\left(e_{1} - g_{2}\\right)^{2}\\\\- 1.0 Ve1e1 e_{2} g_{3} \\left(2 e_{1} - 2 g_{2}\\right)\\end{matrix}\\right]$"
      ],
      "text/plain": [
       "Matrix([\n",
       "[                  -1.0*Vg1g1*e2],\n",
       "[-1.0*Vg2g2*e2*g3*(-2*e1 + 2*g2)],\n",
       "[     -1.0*Vg3g3*e2*(e1 - g2)**2],\n",
       "[ -1.0*Ve1e1*e2*g3*(2*e1 - 2*g2)]])"
      ]
     },
     "execution_count": 116,
     "metadata": {},
     "output_type": "execute_result"
    }
   ],
   "source": [
    "Q_1.subs([(Vg1g2, 0), (Vg1g3, 0), (Vg1e1, 0), (Vg2g3, 0), (Vg2e1, 0), (Vg3e1, 0)])"
   ]
  },
  {
   "cell_type": "markdown",
   "metadata": {},
   "source": [
    "The means of the genetic factors, ($g_1$, $g_2$, $g_3$), change in proportion to their variances but the direction of change is determined by the average quality of the environments early (e1) or late (e2) in life. "
   ]
  },
  {
   "cell_type": "code",
   "execution_count": 30,
   "metadata": {},
   "outputs": [
    {
     "data": {
      "text/latex": [
       "$\\displaystyle - e_{2} \\left(e_{1} - g_{2}\\right)^{2}$"
      ],
      "text/plain": [
       "-e2*(e1 - g2)**2"
      ]
     },
     "execution_count": 30,
     "metadata": {},
     "output_type": "execute_result"
    }
   ],
   "source": []
  },
  {
   "cell_type": "markdown",
   "metadata": {},
   "source": [
    "D tensors\n",
    "\n",
    "D2\n",
    "\n",
    "$$D^2 = \\left[ \\begin{array}{cccc}\n",
    "0 & 0 & 0 &0 \\\\\n",
    "0 & 2g_3 & -2(e_1-g_2) & -2g_3\\\\\n",
    "0 & -2(e_1-g_2) & 0 & 2(e_1-g_2)\\\\\n",
    "0 & -2g_3 & 2(e_1-g_2) & 2g_3\n",
    "\\end{array} \\right]$$\n",
    "\n",
    "$$\\begin{eqnarray*}\n",
    "\\langle P^3, D^1 \\rangle_{i,i} & = & P_{1ii} - 2(e_1 - g_2)g_3 P_{2ii} + \\\\\n",
    "& & (e_1 - g_2)^2 P_{3ii} + 2(e_1 - g^2) g_3 P_{4ii}\n",
    "\\end{eqnarray*}$$\n",
    "\n",
    "$$\\begin{eqnarray*}\n",
    "\\langle P^4, D^2 \\rangle_{2,2} & = & 2 g_3 P_{2222} - 4g_3 P_{2224} + \\\\\n",
    "& & 2 g_3 P_{2244} \\\\\n",
    "\\langle P^4, D^2 \\rangle_{2,4} & = & 2 g_3 P_{2224} - 4g_3 P_{2244} + \\\\\n",
    "& & 2 g_3 P_{2444}\n",
    "\\end{eqnarray*}$$"
   ]
  },
  {
   "cell_type": "code",
   "execution_count": null,
   "metadata": {},
   "outputs": [],
   "source": []
  },
  {
   "cell_type": "code",
   "execution_count": 1,
   "metadata": {},
   "outputs": [],
   "source": []
  },
  {
   "cell_type": "markdown",
   "metadata": {},
   "source": [
    "1. Koolhaas JM et al. 1997 Neuroscience and Biobehavioral Reviews 23: 925-935.   \n",
    "2. Lesch KP et al. 1996. Science 274: 1527-1531.\n",
    "3. Suomi S. 2006. Annals of the New York Academy of Science 1994: 52-62.\n",
    "4. Boyce WT & Ellis BJ. 2005. Development and Psychopathology 17: 271-301.\n",
    "5. Boyce BJ, Essex MJ, & Boyce WT. 2005. Development and Psychopathology 17: 303-328.\n",
    "6. Ellis BJ & Boyce WT. 2008. Current Directions in Psychological Science 17: 183-187.     \n",
    "7. Del Guidice M, Ellis BJ, & Shirtcliff EA. 2011.\n",
    "8.  Rice SH. 2004. Evolutionary theory. Sunderland, Mass: Sinauer. "
   ]
  },
  {
   "cell_type": "code",
   "execution_count": null,
   "metadata": {},
   "outputs": [],
   "source": []
  }
 ],
 "metadata": {
  "kernelspec": {
   "display_name": "Python 3",
   "language": "python",
   "name": "python3"
  },
  "language_info": {
   "codemirror_mode": {
    "name": "ipython",
    "version": 3
   },
   "file_extension": ".py",
   "mimetype": "text/x-python",
   "name": "python",
   "nbconvert_exporter": "python",
   "pygments_lexer": "ipython3",
   "version": "3.7.3"
  }
 },
 "nbformat": 4,
 "nbformat_minor": 4
}
